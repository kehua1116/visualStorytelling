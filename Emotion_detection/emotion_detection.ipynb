{
 "cells": [
  {
   "cell_type": "code",
   "execution_count": 110,
   "id": "5a3c9007",
   "metadata": {},
   "outputs": [
    {
     "name": "stdout",
     "output_type": "stream",
     "text": [
      "True\n"
     ]
    }
   ],
   "source": [
    "import numpy as np\n",
    "import torch \n",
    "from deepface import DeepFace\n",
    "import matplotlib.pyplot as plt\n",
    "from matplotlib.pyplot import imread\n",
    "from skimage.transform import resize\n",
    "import json\n",
    "import os.path as osp\n",
    "import os\n",
    "from os import listdir\n",
    "from os.path import isfile, join\n",
    "import sys\n",
    "sys.path.insert(0, '/home/kw2960/Common_sense/visualstorytelling')\n",
    "sys.path.insert(0, '/home/kw2960')\n",
    "from vist_api import vist\n",
    "from datetime import datetime\n",
    "print(torch.cuda.is_available())"
   ]
  },
  {
   "cell_type": "code",
   "execution_count": 111,
   "id": "21c8b816",
   "metadata": {},
   "outputs": [
    {
     "name": "stdout",
     "output_type": "stream",
     "text": [
      "sis's [test] loaded. It took 1.08 seconds.\n",
      "Make mapping ...\n",
      "Mapping for [Albums][Images][Stories][Sents] done.\n"
     ]
    }
   ],
   "source": [
    "vist_images_dir = '../data/vist/images'\n",
    "vist_annotations_dir = '../data/vist/data/visualstorytelling'\n",
    "sis_test = vist.Story_in_Sequence(vist_images_dir, vist_annotations_dir, [\"test\"])"
   ]
  },
  {
   "cell_type": "code",
   "execution_count": 112,
   "id": "17408013",
   "metadata": {},
   "outputs": [
    {
     "data": {
      "text/plain": [
       "1011"
      ]
     },
     "execution_count": 112,
     "metadata": {},
     "output_type": "execute_result"
    }
   ],
   "source": [
    "len(sis_test.Albums)"
   ]
  },
  {
   "cell_type": "markdown",
   "id": "ea8b2d37",
   "metadata": {},
   "source": [
    "Use the Deepface API to get face & emotion recognition for each image and save as json file \\\n",
    "https://github.com/serengil/deepface"
   ]
  },
  {
   "cell_type": "code",
   "execution_count": 7,
   "id": "71aaa15e",
   "metadata": {},
   "outputs": [],
   "source": [
    "def emotion_recognition(images_dir, out_dir, split=\"train\"):\n",
    "\n",
    "    b = datetime.now()\n",
    "    emotions = {\"angry\": 0, \"disgust\": 0, \"fear\": 0, \"happy\": 0, \"sad\": 0, \"surprise\": 0, \"neutral\": 0, \"no_face\": 0}\n",
    "    files = [f for f in listdir(join(images_dir, split)) if isfile(join(images_dir, split, f))]\n",
    "    for img_id in files:\n",
    "        _id = img_id.split(\".jpg\")[0]\n",
    "        \n",
    "\n",
    "        img_file = join(images_dir, split, img_id)\n",
    "        try:\n",
    "            detection = DeepFace.analyze(\n",
    "                    img_path=img_file, \n",
    "                    actions=['emotion'],\n",
    "                    enforce_detection=True\n",
    "            )\n",
    "            emotions[detection[\"dominant_emotion\"]] += 1\n",
    "        except:\n",
    "            detection = {\"dominant_emotion\": \"no_face_detected\"}\n",
    "            emotions[\"no_face\"] += 1\n",
    "\n",
    "        json_object = json.dumps(detection)\n",
    "        out_path = osp.join(out_dir, split, _id + '.json')\n",
    "        with open(out_path, \"w\") as outfile:\n",
    "            outfile.write(json_object)\n",
    "    print('emotion [%s] loaded. It took %.2f seconds.' % (split, (datetime.now() - b).total_seconds()))\n",
    "    print(emotions)\n",
    "    return emotions\n",
    "\n",
    "\n",
    "def emotion_statistics(out_dir, split=\"train\"):\n",
    "    b = datetime.now()\n",
    "    emotions = {\"angry\": 0, \"disgust\": 0, \"fear\": 0, \"happy\": 0, \"sad\": 0, \"surprise\": 0, \"neutral\": 0, \"no_face_detected\": 0}\n",
    "    files = [f for f in listdir(join(out_dir, split)) if isfile(join(out_dir, split, f))]\n",
    "    for img_id in files:\n",
    "        info = json.load(open(join(out_dir, split, img_id)))\n",
    "        emotions[info[\"dominant_emotion\"]] += 1\n",
    "    print('emotion [%s] loaded. It took %.2f seconds.' % (split, (datetime.now() - b).total_seconds()))\n",
    "    return emotions\n",
    "        \n",
    "\n",
    "\n",
    "    \n"
   ]
  },
  {
   "cell_type": "code",
   "execution_count": 5,
   "id": "f7bad0e7",
   "metadata": {},
   "outputs": [],
   "source": [
    "vist_images_dir = '../data/vist/images'\n",
    "out_dir = '../data/vist/emotion_annotations'\n",
    "# emotion_recognition(vist_images_dir, out_dir, \"test\")\n",
    "# emotions = emotion_recognition(vist_images_dir, out_dir, \"train\")"
   ]
  },
  {
   "cell_type": "code",
   "execution_count": 11,
   "id": "b3ea2f57",
   "metadata": {},
   "outputs": [
    {
     "name": "stdout",
     "output_type": "stream",
     "text": [
      "emotion [test] loaded. It took 3.86 seconds.\n",
      "{'angry': 972, 'disgust': 35, 'fear': 2008, 'happy': 3393, 'sad': 2274, 'surprise': 197, 'neutral': 2881, 'no_face_detected': 9315}\n"
     ]
    }
   ],
   "source": [
    "out_dir = '../data/vist/emotion_annotations'\n",
    "emotions = emotion_statistics(out_dir, \"test\")\n",
    "print(emotions)"
   ]
  },
  {
   "cell_type": "code",
   "execution_count": 8,
   "id": "226647da",
   "metadata": {},
   "outputs": [
    {
     "name": "stdout",
     "output_type": "stream",
     "text": [
      "emotion [train] loaded. It took 81.58 seconds.\n",
      "{'angry': 7053, 'disgust': 330, 'fear': 15465, 'happy': 23081, 'sad': 16190, 'surprise': 1424, 'neutral': 20224, 'no_face_detected': 83763}\n"
     ]
    }
   ],
   "source": [
    "train_emotions = emotion_statistics(out_dir, \"train\")\n",
    "print(train_emotions)"
   ]
  },
  {
   "cell_type": "code",
   "execution_count": null,
   "id": "cd0ecc76",
   "metadata": {},
   "outputs": [],
   "source": []
  }
 ],
 "metadata": {
  "kernelspec": {
   "display_name": "Python 3 (ipykernel)",
   "language": "python",
   "name": "python3"
  },
  "language_info": {
   "codemirror_mode": {
    "name": "ipython",
    "version": 3
   },
   "file_extension": ".py",
   "mimetype": "text/x-python",
   "name": "python",
   "nbconvert_exporter": "python",
   "pygments_lexer": "ipython3",
   "version": "3.9.12"
  }
 },
 "nbformat": 4,
 "nbformat_minor": 5
}
